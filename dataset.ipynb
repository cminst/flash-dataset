{
 "cells": [
  {
   "cell_type": "code",
   "execution_count": 2,
   "id": "2f5efea2-cfee-4fc4-b0bb-51752fe32ab1",
   "metadata": {},
   "outputs": [
    {
     "name": "stdout",
     "output_type": "stream",
     "text": [
      "Collecting iv2_utils\n",
      "  Using cached iv2_utils-0.3.2-py3-none-any.whl.metadata (594 bytes)\n",
      "Using cached iv2_utils-0.3.2-py3-none-any.whl (4.2 kB)\n",
      "Installing collected packages: iv2_utils\n",
      "Successfully installed iv2_utils-0.3.2\n"
     ]
    },
    {
     "name": "stderr",
     "output_type": "stream",
     "text": [
      "Generating train split: 100%|█████████████████████████████████████████████████████████████████████████████████████████████████████████████████████████████████████████████████████████████████████████████████████████████████████| 10009/10009 [00:00<00:00, 47582.81 examples/s]\n",
      "Generating val1 split: 100%|███████████████████████████████████████████████████████████████████████████████████████████████████████████████████████████████████████████████████████████████████████████████████████████████████████| 4917/4917 [00:00<00:00, 113747.84 examples/s]\n",
      "Generating val2 split: 100%|███████████████████████████████████████████████████████████████████████████████████████████████████████████████████████████████████████████████████████████████████████████████████████████████████████| 4885/4885 [00:00<00:00, 142975.00 examples/s]\n"
     ]
    }
   ],
   "source": [
    "!pip install iv2_utils\n",
    "from datasets import *\n",
    "from iv2_utils import iv2\n",
    "\n",
    "dataset = load_dataset(\"friedrichor/ActivityNet_Captions\", split = \"val1\")"
   ]
  },
  {
   "cell_type": "code",
   "execution_count": 3,
   "id": "a9004153-3184-4f31-87d9-dea61dfeb072",
   "metadata": {},
   "outputs": [
    {
     "data": {
      "text/plain": [
       "Dataset({\n",
       "    features: ['video_id', 'video', 'caption', 'source', 'duration', 'timestamps', 'sentences'],\n",
       "    num_rows: 4917\n",
       "})"
      ]
     },
     "execution_count": 3,
     "metadata": {},
     "output_type": "execute_result"
    }
   ],
   "source": [
    "dataset"
   ]
  },
  {
   "cell_type": "code",
   "execution_count": 4,
   "id": "b6c645d7-ea08-48b0-9864-6cb6993bf9c9",
   "metadata": {},
   "outputs": [
    {
     "data": {
      "text/plain": [
       "{'video_id': 'v_uqiMw7tQ1Cc',\n",
       " 'video': 'v_uqiMw7tQ1Cc.mp4',\n",
       " 'caption': 'A weight lifting tutorial is given. The coach helps the guy in red with the proper body placement and lifting technique.',\n",
       " 'source': 'ActivityNet_Captions',\n",
       " 'duration': 55.15,\n",
       " 'timestamps': [[0.28, 55.15], [13.79, 54.32]],\n",
       " 'sentences': ['A weight lifting tutorial is given.',\n",
       "  'The coach helps the guy in red with the proper body placement and lifting technique.']}"
      ]
     },
     "execution_count": 4,
     "metadata": {},
     "output_type": "execute_result"
    }
   ],
   "source": [
    "dataset[0]"
   ]
  },
  {
   "cell_type": "code",
   "execution_count": 5,
   "id": "32a67ac3-11e0-4bcf-b7c4-7c57bf80300c",
   "metadata": {},
   "outputs": [
    {
     "name": "stderr",
     "output_type": "stream",
     "text": [
      "Filter: 100%|████████████████████████████████████████████████████████████████████████████████████████████████████████████████████████████████████████████████████████████████████████████████████████████████████████████████████| 17505/17505 [00:00<00:00, 292411.42 examples/s]"
     ]
    },
    {
     "name": "stdout",
     "output_type": "stream",
     "text": [
      "671 total actions in dataset\n",
      "\n",
      "Example action:\n",
      "{'video': 'video/v_eUecHAdv1uU.mp4', 'caption': 'A man rides a horse that is pulled by a calf in a rodeo show.', 'start_time': 0.0, 'end_time': 1.42, 'action_duration': 1.42}\n"
     ]
    },
    {
     "name": "stderr",
     "output_type": "stream",
     "text": [
      "\n"
     ]
    }
   ],
   "source": [
    "action_dataset = []\n",
    "total_actions = 0\n",
    "\n",
    "for item in dataset:\n",
    "    total_actions += len(item['sentences'])\n",
    "\n",
    "    for action_label, time_frame in zip(item['sentences'], item['timestamps']):\n",
    "        action_dataset.append({\n",
    "            \"video\": 'video/' + item['video'],\n",
    "            \"caption\": action_label.strip(),\n",
    "            \"start_time\": round(time_frame[0], 2),\n",
    "            \"end_time\": round(time_frame[1], 2),\n",
    "            \"action_duration\": round(time_frame[1] - time_frame[0], 2)\n",
    "        })\n",
    "\n",
    "\n",
    "action_dataset = Dataset.from_list(action_dataset) \\\n",
    "    .filter(lambda row: 0 < row['action_duration'] <= 2)\n",
    "\n",
    "\n",
    "print(f\"{len(action_dataset):,} total actions in dataset\\n\")\n",
    "\n",
    "print(\"Example action:\")\n",
    "print(action_dataset[494])"
   ]
  },
  {
   "cell_type": "code",
   "execution_count": 6,
   "id": "930189ae-8a96-47b3-a702-c37bbb5004bc",
   "metadata": {},
   "outputs": [],
   "source": [
    "iv2.json_write([x for x in action_dataset], 'activitynet_val.json')"
   ]
  },
  {
   "cell_type": "code",
   "execution_count": 7,
   "id": "16055f70-8c72-4c74-abcf-2514b2f55f46",
   "metadata": {},
   "outputs": [
    {
     "data": {
      "image/png": "[encoded data removed]",
      "text/plain": [
       "<Figure size 800x500 with 1 Axes>"
      ]
     },
     "metadata": {},
     "output_type": "display_data"
    }
   ],
   "source": [
    "import matplotlib.pyplot as plt\n",
    "\n",
    "durations = action_dataset['action_duration']\n",
    "\n",
    "plt.figure(figsize=(8, 5))\n",
    "plt.hist(durations, bins=50, color='skyblue', edgecolor='black')\n",
    "plt.title('Distribution of Video Durations')\n",
    "plt.xlabel('Duration (seconds)')\n",
    "plt.ylabel('Number of Videos')\n",
    "plt.tight_layout()\n",
    "plt.show()"
   ]
  },
  {
   "cell_type": "markdown",
   "id": "75331bf8-2257-4a61-beb3-25687a181878",
   "metadata": {},
   "source": [
    "### Dataset Analysis (Videos)"
   ]
  },
  {
   "cell_type": "code",
   "execution_count": 85,
   "id": "06d775ef-d828-4f05-a7fd-6a73d8e9addd",
   "metadata": {},
   "outputs": [],
   "source": [
    "import os\n",
    "import sys\n",
    "from iv2_utils import iv2\n",
    "from datasets import *"
   ]
  },
  {
   "cell_type": "code",
   "execution_count": 86,
   "id": "c16fb6aa-b89c-4b30-a56a-89dc47d6540c",
   "metadata": {},
   "outputs": [
    {
     "name": "stdout",
     "output_type": "stream",
     "text": [
      "14950 videos found in dataset\n",
      "14950 unique videos found in dataset\n",
      "\n",
      "13545 mp4 videos\n",
      "1386 mkv videos\n",
      "19 webm videos\n"
     ]
    }
   ],
   "source": [
    "video_ids = set([x.split('.')[0] for x in os.listdir('dataset/video')])\n",
    "videos = [os.path.join('dataset/video', x) for x in os.listdir('dataset/video')]\n",
    "\n",
    "print(f\"{len(videos)} videos found in dataset\")\n",
    "print(f\"{len(set(videos))} unique videos found in dataset\")\n",
    "\n",
    "mp4_videos = []\n",
    "mkv_videos = []\n",
    "webm_videos = []\n",
    "\n",
    "for video in videos:\n",
    "    if video.endswith('.mp4'):\n",
    "        mp4_videos.append(video)\n",
    "    elif video.endswith('.mkv'):\n",
    "        mkv_videos.append(video)\n",
    "    elif video.endswith('.webm'):\n",
    "        webm_videos.append(video)\n",
    "    else:\n",
    "        print(video)\n",
    "\n",
    "print(f\"\\n{len(mp4_videos)} mp4 videos\")\n",
    "print(f\"{len(mkv_videos)} mkv videos\")\n",
    "print(f\"{len(webm_videos)} webm videos\")"
   ]
  },
  {
   "cell_type": "code",
   "execution_count": 87,
   "id": "a8b71d40-929d-44ac-be63-d22da1dd3550",
   "metadata": {},
   "outputs": [
    {
     "data": {
      "application/vnd.jupyter.widget-view+json": {
       "model_id": "fd1e672f047f4ec79e41fb8554e9b643",
       "version_major": 2,
       "version_minor": 0
      },
      "text/plain": [
       "Generating train split: 0 examples [00:00, ? examples/s]"
      ]
     },
     "metadata": {},
     "output_type": "display_data"
    }
   ],
   "source": [
    "dataset = Dataset.from_json('activitynet.json')"
   ]
  },
  {
   "cell_type": "code",
   "execution_count": 88,
   "id": "36ebd7ac-f7f7-48eb-923e-ddf7699b9283",
   "metadata": {},
   "outputs": [
    {
     "data": {
      "text/plain": [
       "'dataset/video/v_ILIpCfCWyT0.mkv'"
      ]
     },
     "execution_count": 88,
     "metadata": {},
     "output_type": "execute_result"
    }
   ],
   "source": [
    "mkv_videos[0]"
   ]
  },
  {
   "cell_type": "code",
   "execution_count": 89,
   "id": "ba3bd7d8-3a30-46b0-b9b3-061e3c1e5fdf",
   "metadata": {},
   "outputs": [
    {
     "data": {
      "text/plain": [
       "True"
      ]
     },
     "execution_count": 89,
     "metadata": {},
     "output_type": "execute_result"
    }
   ],
   "source": [
    "'dataset/video/' + 'v_nHE7u40plD0.mkv' in mkv_videos"
   ]
  },
  {
   "cell_type": "code",
   "execution_count": 91,
   "id": "9e6c1fe9-4009-46e6-bb7c-2450cc260e85",
   "metadata": {},
   "outputs": [
    {
     "name": "stdout",
     "output_type": "stream",
     "text": [
      "{'video': 'video/v_nHE7u40plD0.mkv', 'caption': 'People stand next to them and watch them play.', 'start_time': 67.68, 'end_time': 72.78, 'action_duration': 5.1}\n",
      "{'video': 'video/v_nHE7u40plD0.mkv', 'caption': 'A little boy holding a yellow ball walks by.', 'start_time': 82.97, 'end_time': 87.33, 'action_duration': 4.36}\n"
     ]
    }
   ],
   "source": [
    "count = 0\n",
    "for i in dataset:\n",
    "    if not i['video'].endswith('mp4'):\n",
    "        print(i)\n",
    "        count += 1\n",
    "        if count == 2:\n",
    "            break"
   ]
  },
  {
   "cell_type": "code",
   "execution_count": null,
   "id": "6e43a8f4-9cbe-4c7d-a02d-0da7eba2f2b7",
   "metadata": {},
   "outputs": [],
   "source": []
  }
 ],
 "metadata": {
  "kernelspec": {
   "display_name": "Python 3 (ipykernel)",
   "language": "python",
   "name": "python3"
  },
  "language_info": {
   "codemirror_mode": {
    "name": "ipython",
    "version": 3
   },
   "file_extension": ".py",
   "mimetype": "text/x-python",
   "name": "python",
   "nbconvert_exporter": "python",
   "pygments_lexer": "ipython3",
   "version": "3.10.18"
  }
 },
 "nbformat": 4,
 "nbformat_minor": 5
}

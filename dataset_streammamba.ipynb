{
 "cells": [
  {
   "cell_type": "markdown",
   "id": "6aafdfef-7dd3-4f8c-a510-a7d471953c6e",
   "metadata": {},
   "source": [
    "## Load Base ActivityNet Captions Dataset and Classify"
   ]
  },
  {
   "cell_type": "code",
   "execution_count": 6,
   "id": "2f5efea2-cfee-4fc4-b0bb-51752fe32ab1",
   "metadata": {},
   "outputs": [],
   "source": [
    "from datasets import *\n",
    "from iv2_utils import iv2\n",
    "from utils import plot_dataset_stats\n",
    "\n",
    "val1 = load_dataset(\"friedrichor/ActivityNet_Captions\", split = \"val1\")\n",
    "val2 = load_dataset(\"friedrichor/ActivityNet_Captions\", split = \"val2\")\n",
    "train = load_dataset(\"friedrichor/ActivityNet_Captions\", split = \"train\")\n",
    "\n",
    "dataset = concatenate_datasets([val1, val2, train])\n",
    "\n",
    "del val1, val2, train"
   ]
  },
  {
   "cell_type": "code",
   "execution_count": 7,
   "id": "a9004153-3184-4f31-87d9-dea61dfeb072",
   "metadata": {},
   "outputs": [
    {
     "data": {
      "text/plain": [
       "Dataset({\n",
       "    features: ['video_id', 'video', 'caption', 'source', 'duration', 'timestamps', 'sentences'],\n",
       "    num_rows: 19811\n",
       "})"
      ]
     },
     "execution_count": 7,
     "metadata": {},
     "output_type": "execute_result"
    }
   ],
   "source": [
    "dataset"
   ]
  },
  {
   "cell_type": "code",
   "execution_count": 8,
   "id": "b6c645d7-ea08-48b0-9864-6cb6993bf9c9",
   "metadata": {},
   "outputs": [
    {
     "data": {
      "text/plain": [
       "{'video_id': 'v_uqiMw7tQ1Cc',\n",
       " 'video': 'v_uqiMw7tQ1Cc.mp4',\n",
       " 'caption': 'A weight lifting tutorial is given. The coach helps the guy in red with the proper body placement and lifting technique.',\n",
       " 'source': 'ActivityNet_Captions',\n",
       " 'duration': 55.15,\n",
       " 'timestamps': [[0.28, 55.15], [13.79, 54.32]],\n",
       " 'sentences': ['A weight lifting tutorial is given.',\n",
       "  'The coach helps the guy in red with the proper body placement and lifting technique.']}"
      ]
     },
     "execution_count": 8,
     "metadata": {},
     "output_type": "execute_result"
    }
   ],
   "source": [
    "dataset[0]"
   ]
  },
  {
   "cell_type": "code",
   "execution_count": 9,
   "id": "32a67ac3-11e0-4bcf-b7c4-7c57bf80300c",
   "metadata": {},
   "outputs": [
    {
     "data": {
      "application/vnd.jupyter.widget-view+json": {
       "model_id": "6047ef90ba7844d488d60e745e0001c0",
       "version_major": 2,
       "version_minor": 0
      },
      "text/plain": [
       "Filter:   0%|          | 0/71957 [00:00<?, ? examples/s]"
      ]
     },
     "metadata": {},
     "output_type": "display_data"
    },
    {
     "name": "stdout",
     "output_type": "stream",
     "text": [
      "40,000 total actions in dataset\n",
      "\n",
      "Example action:\n",
      "{'video': 'video/v__nvQDglPcmc.mkv', 'caption': 'water polo team is standing by the pool talking to the camera.', 'start_time': 0.0, 'end_time': 27.27, 'action_duration': 27.27}\n"
     ]
    }
   ],
   "source": [
    "action_dataset = []\n",
    "total_actions = 0\n",
    "\n",
    "for item in dataset:\n",
    "    total_actions += len(item['sentences'])\n",
    "\n",
    "    for action_label, time_frame in zip(item['sentences'], item['timestamps']):\n",
    "        action_dataset.append({\n",
    "            \"video\": 'video/' + item['video'],\n",
    "            \"caption\": action_label.strip(),\n",
    "            \"start_time\": round(time_frame[0], 2),\n",
    "            \"end_time\": round(time_frame[1], 2),\n",
    "            \"action_duration\": round(time_frame[1] - time_frame[0], 2)\n",
    "        })\n",
    "\n",
    "action_dataset = Dataset.from_list(action_dataset) \\\n",
    "    .sort('action_duration') \\\n",
    "    .filter(lambda row: row['action_duration'] > 0) \\\n",
    "    .select(range(40000))\n",
    "\n",
    "print(f\"{len(action_dataset):,} total actions in dataset\\n\")\n",
    "\n",
    "print(\"Example action:\")\n",
    "print(action_dataset[-1])"
   ]
  },
  {
   "cell_type": "code",
   "execution_count": 10,
   "id": "2b9a6c3c-6ced-4ec5-b94d-bd90dfca9828",
   "metadata": {},
   "outputs": [
    {
     "data": {
      "text/plain": [
       "{'video': 'video/v_5oy5Yi6fzJU.mp4',\n",
       " 'caption': 'A dog walks in and out of frame while the man continues pushing the mower.',\n",
       " 'start_time': 8.93,\n",
       " 'end_time': 30.29,\n",
       " 'action_duration': 21.36}"
      ]
     },
     "execution_count": 10,
     "metadata": {},
     "output_type": "execute_result"
    }
   ],
   "source": [
    "import random\n",
    "\n",
    "random.choice(action_dataset)"
   ]
  },
  {
   "cell_type": "code",
   "execution_count": 11,
   "id": "427dcf05-ee74-4530-a81e-3b46dfd3841e",
   "metadata": {},
   "outputs": [
    {
     "data": {
      "application/vnd.jupyter.widget-view+json": {
       "model_id": "53e37d134dcf4315bb577089a6fcf8f6",
       "version_major": 2,
       "version_minor": 0
      },
      "text/plain": [
       "Map:   0%|          | 0/40000 [00:00<?, ? examples/s]"
      ]
     },
     "metadata": {},
     "output_type": "display_data"
    }
   ],
   "source": [
    "import json\n",
    "\n",
    "counter = -1\n",
    "\n",
    "def get_classification_prompt(row):\n",
    "    global counter\n",
    "    prompt_dict = {\n",
    "      \"instruction\": \"Classify the action caption into A, B, or C based on the criteria below. If C, provide a revised caption. Output must be in JSON format.\",\n",
    "      \"criteria\": {\n",
    "        \"A\": \"The caption describes a clear 'peak' moment, where the height of the action is happening for only a few frames. 'A person at the height of backflip' counts, but 'A person walks through a park' doesn't count.\",\n",
    "        \"B\": \"The caption is like the park example.\",\n",
    "        \"C\": \"The caption can be adjusted with minimal edits to fit structure A (provide the revised version). You are allowed to tweak the action to fit this, as long as the action is guaranteed to happen in the caption. For example, 'After, a man runs and lands in the sand' could be rewritten as 'The moment when the man lands in the sand'.\"\n",
    "      },\n",
    "      \"Examples to Guide You (Please Review Thoroughly To Get An Idea Of How This Works!)\": [\n",
    "        {\"input\": {\"caption\": \"A guy in a white tee shirt enters a bedroom.\", \"action_duration\": 1.07}, \"output\": {\"classification\": \"C\", \"revised_caption\": \"The moment when a person enters a bedroom.\"}},\n",
    "        {\"input\": {\"caption\": \"She jumps off and lands in the water.\", \"action_duration\": 3.42}, \"output\": {\"classification\": \"C\", \"revised_caption\": \"The moment when the person lands in the water.\"}},\n",
    "        {\"input\": {\"caption\": \"A child eats ice cream.\", \"action_duration\": 2.07}, \"output\": {\"classification\": \"B\"}, \"revised_caption\": None},\n",
    "        {\"input\": {\"caption\": \"The exact moment when a girl shows us her brush.\", \"action_duration\": 5.23}, \"output\": {\"classification\": \"B\", \"revised_caption\": None}},\n",
    "        {\"input\": {\"caption\": \"The exact moment when the dumbbell hits the ground\", \"action_duration\": 1.5}, \"output\": {\"classification\": \"A\", \"revised_caption\": None}},\n",
    "        {\"input\": {\"caption\": \"They do back flips and land in the water.\", \"action_duration\": 1.28}, \"output\": {\"classification\": \"A\", \"revised_caption\": None}},\n",
    "        {\"input\": {\"caption\": \"A rivers roaring rapids are about to carry a large group of rafters.\", \"action_duration\": 2.75}, \"output\": {\"classification\": \"B\", \"revised_caption\": None}}\n",
    "      ],\n",
    "      \"input\": {\n",
    "          \"caption\": row['caption'],\n",
    "          \"duration\": row['action_duration']\n",
    "      }\n",
    "    }\n",
    "\n",
    "    prefix = json.dumps(prompt_dict, indent=2)\n",
    "\n",
    "    suffix = \"\"\"**Expected Response Format**:\n",
    "{\n",
    "  \"classification\": \"B\",\n",
    "  \"revised_caption\": null\n",
    "}\n",
    "\n",
    "**OR**\n",
    "{\n",
    "  \"classification\": \"C\",\n",
    "  \"revised_caption\": \"The moment when the person lands in the water.\"\n",
    "}\n",
    "\"\"\".strip()\n",
    "\n",
    "    prompt = prefix + '\\n\\n' + suffix\n",
    "\n",
    "    counter += 1\n",
    "    \n",
    "    return {\"classification_prompt\": prompt.strip(), \"row_id\": counter}\n",
    "\n",
    "action_dataset_prompts = action_dataset.shuffle(seed=42).map(get_classification_prompt)"
   ]
  },
  {
   "cell_type": "code",
   "execution_count": 12,
   "id": "aa2787cd-c7c4-436e-af68-c2e327dec98d",
   "metadata": {},
   "outputs": [
    {
     "data": {
      "text/plain": [
       "{'video': 'video/v_nuEK3POl9jA.mp4',\n",
       " 'caption': 'He bends down and works his way up with great effort, finally lifting the barbell over his head.',\n",
       " 'start_time': 8.4,\n",
       " 'end_time': 28.21,\n",
       " 'action_duration': 19.81,\n",
       " 'classification_prompt': '{\\n  \"instruction\": \"Classify the action caption into A, B, or C based on the criteria below. If C, provide a revised caption. Output must be in JSON format.\",\\n  \"criteria\": {\\n    \"A\": \"The caption describes a clear \\'peak\\' moment, where the height of the action is happening for only a few frames. \\'A person at the height of backflip\\' counts, but \\'A person walks through a park\\' doesn\\'t count.\",\\n    \"B\": \"The caption is like the park example.\",\\n    \"C\": \"The caption can be adjusted with minimal edits to fit structure A (provide the revised version). You are allowed to tweak the action to fit this, as long as the action is guaranteed to happen in the caption. For example, \\'After, a man runs and lands in the sand\\' could be rewritten as \\'The moment when the man lands in the sand\\'.\"\\n  },\\n  \"Examples to Guide You (Please Review Thoroughly To Get An Idea Of How This Works!)\": [\\n    {\\n      \"input\": {\\n        \"caption\": \"A guy in a white tee shirt enters a bedroom.\",\\n        \"action_duration\": 1.07\\n      },\\n      \"output\": {\\n        \"classification\": \"C\",\\n        \"revised_caption\": \"The moment when a person enters a bedroom.\"\\n      }\\n    },\\n    {\\n      \"input\": {\\n        \"caption\": \"She jumps off and lands in the water.\",\\n        \"action_duration\": 3.42\\n      },\\n      \"output\": {\\n        \"classification\": \"C\",\\n        \"revised_caption\": \"The moment when the person lands in the water.\"\\n      }\\n    },\\n    {\\n      \"input\": {\\n        \"caption\": \"A child eats ice cream.\",\\n        \"action_duration\": 2.07\\n      },\\n      \"output\": {\\n        \"classification\": \"B\"\\n      },\\n      \"revised_caption\": null\\n    },\\n    {\\n      \"input\": {\\n        \"caption\": \"The exact moment when a girl shows us her brush.\",\\n        \"action_duration\": 5.23\\n      },\\n      \"output\": {\\n        \"classification\": \"B\",\\n        \"revised_caption\": null\\n      }\\n    },\\n    {\\n      \"input\": {\\n        \"caption\": \"The exact moment when the dumbbell hits the ground\",\\n        \"action_duration\": 1.5\\n      },\\n      \"output\": {\\n        \"classification\": \"A\",\\n        \"revised_caption\": null\\n      }\\n    },\\n    {\\n      \"input\": {\\n        \"caption\": \"They do back flips and land in the water.\",\\n        \"action_duration\": 1.28\\n      },\\n      \"output\": {\\n        \"classification\": \"A\",\\n        \"revised_caption\": null\\n      }\\n    },\\n    {\\n      \"input\": {\\n        \"caption\": \"A rivers roaring rapids are about to carry a large group of rafters.\",\\n        \"action_duration\": 2.75\\n      },\\n      \"output\": {\\n        \"classification\": \"B\",\\n        \"revised_caption\": null\\n      }\\n    }\\n  ],\\n  \"input\": {\\n    \"caption\": \"He bends down and works his way up with great effort, finally lifting the barbell over his head.\",\\n    \"duration\": 19.81\\n  }\\n}\\n\\n**Expected Response Format**:\\n{\\n  \"classification\": \"B\",\\n  \"revised_caption\": null\\n}\\n\\n**OR**\\n{\\n  \"classification\": \"C\",\\n  \"revised_caption\": \"The moment when the person lands in the water.\"\\n}',\n",
       " 'row_id': 5}"
      ]
     },
     "execution_count": 12,
     "metadata": {},
     "output_type": "execute_result"
    }
   ],
   "source": [
    "action_dataset_prompts[5]"
   ]
  },
  {
   "cell_type": "code",
   "execution_count": 13,
   "id": "16055f70-8c72-4c74-abcf-2514b2f55f46",
   "metadata": {},
   "outputs": [
    {
     "data": {
      "image/png": "[encoded data removed]",
      "text/plain": [
       "<Figure size 800x500 with 1 Axes>"
      ]
     },
     "metadata": {},
     "output_type": "display_data"
    }
   ],
   "source": [
    "import matplotlib.pyplot as plt\n",
    "\n",
    "durations = action_dataset['action_duration']\n",
    "\n",
    "plt.figure(figsize=(8, 5))\n",
    "plt.hist(durations, bins=50, color='skyblue', edgecolor='black')\n",
    "plt.title('Distribution of Action Durations')\n",
    "plt.xlabel('Duration (seconds)')\n",
    "plt.ylabel('Number of Actions')\n",
    "plt.tight_layout()\n",
    "plt.show()"
   ]
  },
  {
   "cell_type": "code",
   "execution_count": 14,
   "id": "6e43a8f4-9cbe-4c7d-a02d-0da7eba2f2b7",
   "metadata": {},
   "outputs": [
    {
     "name": "stdout",
     "output_type": "stream",
     "text": [
      "Successfully created anet_batch_requests.jsonl with 40000 requests.\n"
     ]
    }
   ],
   "source": [
    "import json\n",
    "from datasets import load_dataset, Dataset\n",
    "\n",
    "OUTPUT_FILE = \"anet_batch_requests.jsonl\"\n",
    "FINISHED_FILE = \"anet_batch_outputs.jsonl\"\n",
    "MODEL_NAME = \"Qwen/Qwen3-14B-AWQ\"\n",
    "TEMPERATURE = 0.6\n",
    "MAX_TOKENS = 8192\n",
    "\n",
    "def create_qwen_batch_requests(\n",
    "    hf_dataset: Dataset,\n",
    "    output_file_path: str,\n",
    "    request_id_column: str = \"video_id\",\n",
    "    prompt_column: str = \"classification_prompt\"\n",
    "):\n",
    "    request_count = 0\n",
    "\n",
    "    with open(output_file_path, 'w', encoding='utf-8') as outfile:\n",
    "        for i, row in enumerate(hf_dataset):\n",
    "            try:\n",
    "                video_id = row[request_id_column]\n",
    "                prompt_content = row[prompt_column]\n",
    "\n",
    "                request = {\n",
    "                    \"custom_id\": video_id,\n",
    "                    \"method\": \"POST\",\n",
    "                    \"url\": \"/v1/chat/completions\",\n",
    "                    \"body\": {\n",
    "                        \"model\": MODEL_NAME,\n",
    "                        \"messages\": [\n",
    "                            {\n",
    "                                \"role\": \"user\",\n",
    "                                \"content\": prompt_content\n",
    "                            }\n",
    "                        ],\n",
    "                        \"temperature\": TEMPERATURE,\n",
    "                        \"max_tokens\": MAX_TOKENS\n",
    "                    }\n",
    "                }\n",
    "                json.dump(request, outfile, ensure_ascii=False)\n",
    "                outfile.write('\\n')\n",
    "                request_count += 1\n",
    "\n",
    "            except KeyError as e:\n",
    "                print(f\"Skipping row {i} due to missing column: {e}. Row data: {row}\")\n",
    "            except Exception as e:\n",
    "                print(f\"An error occurred processing row {i}: {e}. Row data: {row}\")\n",
    "\n",
    "    print(f\"Successfully created {output_file_path} with {request_count} requests.\")\n",
    "\n",
    "create_qwen_batch_requests(\n",
    "    hf_dataset=action_dataset_prompts,\n",
    "    output_file_path=OUTPUT_FILE,\n",
    "    request_id_column=\"row_id\",\n",
    "    prompt_column=\"classification_prompt\"\n",
    ")"
   ]
  },
  {
   "cell_type": "code",
   "execution_count": 15,
   "id": "5b6c4990-9fe3-45bc-97bb-37fb2da8e9a4",
   "metadata": {},
   "outputs": [
    {
     "name": "stdout",
     "output_type": "stream",
     "text": [
      "==================\n",
      "PROCESSING SUMMARY\n",
      "==================\n",
      "Total lines processed: 40000\n",
      "Successful entries:    39794\n",
      "Errored entries:       206\n",
      "Success rate:          99.5%\n",
      "\n",
      "--- Json Decode Errors (4 found) ---\n",
      "  Line 39966: Extra data: line 11 column 1 (char 844)...\n",
      "  Line 39968: Expecting ',' delimiter: line 4 column 3 (char 95)...\n",
      "  Line 39989: Extra data: line 12 column 4 (char 395)...\n",
      "  Line 40000: Extra data: line 6 column 1 (char 56)...\n",
      "\n",
      "--- Missing Data Errors (1 found) ---\n",
      "  Line 75: Missing custom_id or parsed response...\n",
      "\n",
      "--- Unexpected Errors (201 found) ---\n",
      "  Line 26421: 'NoneType' object has no attribute 'get'...\n",
      "  Line 26422: 'NoneType' object has no attribute 'get'...\n",
      "  Line 26423: 'NoneType' object has no attribute 'get'...\n",
      "  Line 26424: 'NoneType' object has no attribute 'get'...\n",
      "  Line 26425: 'NoneType' object has no attribute 'get'...\n",
      "  ... and 196 more.\n",
      "\n",
      "Sample of successful Video IDs (5 shown):\n",
      "  - 43\n",
      "  - 67\n",
      "  - 70\n",
      "  - 90\n",
      "  - 66\n"
     ]
    }
   ],
   "source": [
    "# Process outputs\n",
    "\n",
    "import json\n",
    "\n",
    "video_response_dict = {}\n",
    "error_summary = {'json_decode_errors': [],'missing_data_errors': [],'unexpected_errors': [],}\n",
    "\n",
    "line_number = 0\n",
    "\n",
    "with open(FINISHED_FILE, 'r', encoding='utf-8') as f:\n",
    "    for line in f:\n",
    "        line_number += 1\n",
    "        try:\n",
    "            data = json.loads(line.strip())\n",
    "            video_id = data.get(\"custom_id\")\n",
    "            response_content = data.get(\"response\", {}).get('choices', [{}])[0].get('message', {}).get('content', '').split('</think>')[-1].strip()\n",
    "            content_part = response_content.split('}')[-1]\n",
    "            if not content_part.strip().startswith('{'):\n",
    "                start = response_content.find('{')\n",
    "                end = response_content.rfind('}') + 1\n",
    "                if start != -1 and end != 0:\n",
    "                    content_part = response_content[start:end]\n",
    "                else:\n",
    "                    raise ValueError(\"No JSON object found in response content\")\n",
    "            response = json.loads(content_part)\n",
    "            if video_id and response:\n",
    "                video_response_dict[video_id] = response\n",
    "            else:\n",
    "                error_summary['missing_data_errors'].append({'line': line_number,'video_id': video_id,'error': 'Missing custom_id or parsed response'})\n",
    "        except json.JSONDecodeError as e:\n",
    "            error_summary['json_decode_errors'].append({'line': line_number,'error': str(e),'content': line.strip()})\n",
    "        except Exception as e:\n",
    "            error_summary['unexpected_errors'].append({'line': line_number,'error': str(e),'content': line.strip()})\n",
    "\n",
    "total_processed = line_number\n",
    "successful_count = len(video_response_dict)\n",
    "errored_count = sum(len(errors) for errors in error_summary.values())\n",
    "\n",
    "print(\"==================\")\n",
    "print(\"PROCESSING SUMMARY\")\n",
    "print(\"==================\")\n",
    "print(f\"Total lines processed: {total_processed}\")\n",
    "print(f\"Successful entries:    {successful_count}\")\n",
    "print(f\"Errored entries:       {errored_count}\")\n",
    "print(f\"Success rate:          {successful_count/total_processed*100:.1f}%\\n\")\n",
    "\n",
    "for error_type, errors in error_summary.items():\n",
    "    if errors:\n",
    "        print(f\"--- {error_type.replace('_', ' ').title()} ({len(errors)} found) ---\")\n",
    "        for err in errors[:5]:  # Show first 5 examples\n",
    "            vid = err.get('video_id')\n",
    "            line_num = err.get('line')\n",
    "            vid_str = f\" (Video ID: {vid})\" if vid else \"\"\n",
    "            print(f\"  Line {line_num}{vid_str}: {err['error'][:100]}...\")\n",
    "        if len(errors) > 5:\n",
    "            print(f\"  ... and {len(errors) - 5} more.\")\n",
    "        print()\n",
    "\n",
    "if video_response_dict:\n",
    "    print(f\"Sample of successful Video IDs ({min(5, len(video_response_dict))} shown):\")\n",
    "    for video_id in list(video_response_dict.keys())[:5]:\n",
    "        print(f\"  - {video_id}\")"
   ]
  },
  {
   "cell_type": "code",
   "execution_count": 16,
   "id": "ea3c85a0-fecf-431b-a54b-2b2cce8f9e9d",
   "metadata": {},
   "outputs": [],
   "source": [
    "for key, json_data in video_response_dict.items():\n",
    "    if (\"revised_caption\" not in json_data.keys()) and (\"classification\" in json_data.keys()):\n",
    "        video_response_dict[key] |= {\"revised_caption\": None}"
   ]
  },
  {
   "cell_type": "code",
   "execution_count": 17,
   "id": "cb2694d4-ace8-4fbf-98e1-d37df8445478",
   "metadata": {},
   "outputs": [
    {
     "data": {
      "application/vnd.jupyter.widget-view+json": {
       "model_id": "373157fb761640498f756076e0f453b3",
       "version_major": 2,
       "version_minor": 0
      },
      "text/plain": [
       "Filter:   0%|          | 0/40000 [00:00<?, ? examples/s]"
      ]
     },
     "metadata": {},
     "output_type": "display_data"
    },
    {
     "data": {
      "application/vnd.jupyter.widget-view+json": {
       "model_id": "6b5164bbf57d482992f3f7330890b081",
       "version_major": 2,
       "version_minor": 0
      },
      "text/plain": [
       "Map:   0%|          | 0/39794 [00:00<?, ? examples/s]"
      ]
     },
     "metadata": {},
     "output_type": "display_data"
    },
    {
     "data": {
      "text/plain": [
       "Dataset({\n",
       "    features: ['video', 'caption', 'start_time', 'end_time', 'action_duration', 'classification_prompt', 'row_id', 'classification', 'revised_caption'],\n",
       "    num_rows: 39794\n",
       "})"
      ]
     },
     "execution_count": 17,
     "metadata": {},
     "output_type": "execute_result"
    }
   ],
   "source": [
    "def add_classification_response(row):\n",
    "    return video_response_dict[row['row_id']]\n",
    "\n",
    "def is_successful_classification(row):\n",
    "    return row['row_id'] in video_response_dict.keys()\n",
    "\n",
    "action_dataset_classified = action_dataset_prompts.filter(is_successful_classification).map(add_classification_response)\n",
    "\n",
    "action_dataset_classified"
   ]
  },
  {
   "cell_type": "code",
   "execution_count": 18,
   "id": "aa11cb46-8495-49d8-85e7-db7067e263ec",
   "metadata": {},
   "outputs": [
    {
     "data": {
      "application/vnd.jupyter.widget-view+json": {
       "model_id": "90545c1602c148989ee30a828953d91e",
       "version_major": 2,
       "version_minor": 0
      },
      "text/plain": [
       "Filter:   0%|          | 0/39794 [00:00<?, ? examples/s]"
      ]
     },
     "metadata": {},
     "output_type": "display_data"
    },
    {
     "data": {
      "application/vnd.jupyter.widget-view+json": {
       "model_id": "7e9c6d60f0cb4cf28bb2815cb7832414",
       "version_major": 2,
       "version_minor": 0
      },
      "text/plain": [
       "Filter:   0%|          | 0/39794 [00:00<?, ? examples/s]"
      ]
     },
     "metadata": {},
     "output_type": "display_data"
    },
    {
     "data": {
      "application/vnd.jupyter.widget-view+json": {
       "model_id": "5c6b4481476949fb8bdfaccd5ed765ff",
       "version_major": 2,
       "version_minor": 0
      },
      "text/plain": [
       "Filter:   0%|          | 0/39794 [00:00<?, ? examples/s]"
      ]
     },
     "metadata": {},
     "output_type": "display_data"
    },
    {
     "name": "stdout",
     "output_type": "stream",
     "text": [
      "╒═════════╤════════════════════╕\n",
      "│ Class   │ Number of Videos   │\n",
      "╞═════════╪════════════════════╡\n",
      "│ Class A │ 142                │\n",
      "├─────────┼────────────────────┤\n",
      "│ Class B │ 29,767             │\n",
      "├─────────┼────────────────────┤\n",
      "│ Class C │ 9,885              │\n",
      "╘═════════╧════════════════════╛\n"
     ]
    }
   ],
   "source": [
    "from tabulate import tabulate\n",
    "\n",
    "# Filter datasets\n",
    "a_videos = action_dataset_classified.filter(lambda x: x['classification'] == 'A')\n",
    "b_videos = action_dataset_classified.filter(lambda x: x['classification'] == 'B')\n",
    "c_videos = action_dataset_classified.filter(lambda x: x['classification'] == 'C')\n",
    "\n",
    "# Collect info for tabular display\n",
    "table_data = [\n",
    "    [\"Class A\", f\"{len(a_videos):,}\"],\n",
    "    [\"Class B\", f\"{len(b_videos):,}\"],\n",
    "    [\"Class C\", f\"{len(c_videos):,}\"],\n",
    "]\n",
    "\n",
    "print(tabulate(table_data, headers=[\"Class\", \"Number of Videos\"], tablefmt=\"fancy_grid\"))"
   ]
  },
  {
   "cell_type": "markdown",
   "id": "d183448c-aab1-41ec-b9ed-48a7beb9bd0c",
   "metadata": {},
   "source": [
    "## Filter C-Class Videos"
   ]
  },
  {
   "cell_type": "code",
   "execution_count": 19,
   "id": "9d612e03-6680-4a74-b2c4-9ac90367bf50",
   "metadata": {},
   "outputs": [
    {
     "data": {
      "application/vnd.jupyter.widget-view+json": {
       "model_id": "b9e7360e36c94271955ba91ecd091a61",
       "version_major": 2,
       "version_minor": 0
      },
      "text/plain": [
       "Filter:   0%|          | 0/9885 [00:00<?, ? examples/s]"
      ]
     },
     "metadata": {},
     "output_type": "display_data"
    },
    {
     "data": {
      "image/png": "[encoded data removed]",
      "text/plain": [
       "<Figure size 1400x500 with 2 Axes>"
      ]
     },
     "metadata": {},
     "output_type": "display_data"
    },
    {
     "data": {
      "text/plain": [
       "Dataset({\n",
       "    features: ['video', 'caption', 'start_time', 'end_time', 'action_duration', 'row_id', 'revised_caption'],\n",
       "    num_rows: 9187\n",
       "})"
      ]
     },
     "execution_count": 19,
     "metadata": {},
     "output_type": "execute_result"
    }
   ],
   "source": [
    "import os\n",
    "\n",
    "def is_high_quality_action(row):\n",
    "    caption = row['caption']\n",
    "    return (\n",
    "        'logo' not in caption and\n",
    "        'text' not in caption and\n",
    "        'camera' not in caption\n",
    "    )\n",
    "\n",
    "flash_dataset_old = c_videos \\\n",
    "    .filter(is_high_quality_action) \\\n",
    "    .remove_columns(['classification', 'classification_prompt'])\n",
    "\n",
    "plot_dataset_stats(flash_dataset_old)\n",
    "\n",
    "flash_dataset_old"
   ]
  },
  {
   "cell_type": "code",
   "execution_count": 20,
   "id": "f10a11e8-48c4-430e-aa83-efcd24521472",
   "metadata": {},
   "outputs": [
    {
     "data": {
      "text/plain": [
       "{'video': 'video/v_CtooIi6Mk7U.mp4',\n",
       " 'caption': 'Another woman starts flying the kite outside.',\n",
       " 'start_time': 175.42,\n",
       " 'end_time': 182.24,\n",
       " 'action_duration': 6.82,\n",
       " 'row_id': 39273,\n",
       " 'revised_caption': 'The moment when the woman starts flying the kite.'}"
      ]
     },
     "execution_count": 20,
     "metadata": {},
     "output_type": "execute_result"
    }
   ],
   "source": [
    "random.choice(flash_dataset_old)"
   ]
  },
  {
   "cell_type": "code",
   "execution_count": 225,
   "id": "385e507b-49c2-4c81-96b5-5b27bac5b6c7",
   "metadata": {},
   "outputs": [
    {
     "data": {
      "application/vnd.jupyter.widget-view+json": {
       "model_id": "7cdc68d1f5234c589be5a5a235d4245a",
       "version_major": 2,
       "version_minor": 0
      },
      "text/plain": [
       "Creating json from Arrow format:   0%|          | 0/10 [00:00<?, ?ba/s]"
      ]
     },
     "metadata": {},
     "output_type": "display_data"
    },
    {
     "data": {
      "text/plain": [
       "2373127"
      ]
     },
     "execution_count": 225,
     "metadata": {},
     "output_type": "execute_result"
    }
   ],
   "source": [
    "flash_dataset_old.to_json(\"flash_dataset_stage1_9.2k.jsonl\")"
   ]
  },
  {
   "cell_type": "markdown",
   "id": "66281ee7-9b28-4a7f-9822-4809fd5394a1",
   "metadata": {},
   "source": [
    "## Downloaded Clips with `yt-dlp`, Filter Only Remaining Ones"
   ]
  },
  {
   "cell_type": "code",
   "execution_count": 223,
   "id": "af714f7a-18bf-4737-a510-093e3539f07e",
   "metadata": {},
   "outputs": [
    {
     "data": {
      "application/vnd.jupyter.widget-view+json": {
       "model_id": "d7ff6428f19541abb253e61aab17ee1d",
       "version_major": 2,
       "version_minor": 0
      },
      "text/plain": [
       "Filter:   0%|          | 0/9187 [00:00<?, ? examples/s]"
      ]
     },
     "metadata": {},
     "output_type": "display_data"
    },
    {
     "data": {
      "application/vnd.jupyter.widget-view+json": {
       "model_id": "6591aa3bbe4f4d56ad2e64bba69bd4af",
       "version_major": 2,
       "version_minor": 0
      },
      "text/plain": [
       "Map:   0%|          | 0/6855 [00:00<?, ? examples/s]"
      ]
     },
     "metadata": {},
     "output_type": "display_data"
    },
    {
     "data": {
      "image/png": "[encoded data removed]",
      "text/plain": [
       "<Figure size 1400x500 with 2 Axes>"
      ]
     },
     "metadata": {},
     "output_type": "display_data"
    },
    {
     "data": {
      "text/plain": [
       "Dataset({\n",
       "    features: ['video', 'caption', 'start_time', 'end_time', 'action_duration', 'row_id', 'revised_caption'],\n",
       "    num_rows: 6855\n",
       "})"
      ]
     },
     "execution_count": 223,
     "metadata": {},
     "output_type": "execute_result"
    }
   ],
   "source": [
    "def get_new_video_id(row):\n",
    "    video_string = row['video'].split('/')[-1].split('.')[0][2:]\n",
    "\n",
    "    new_video_id = f\"downloaded_clips/{video_string}_{row['row_id']}.mp4\"\n",
    "    \n",
    "    return {'video': new_video_id }\n",
    "\n",
    "def is_available_video(row):\n",
    "    return os.path.exists(get_new_video_id(row)['video'])\n",
    "\n",
    "flash_dataset_raw = flash_dataset_old \\\n",
    "    .filter(is_available_video) \\\n",
    "    .map(get_new_video_id)\n",
    "\n",
    "plot_dataset_stats(flash_dataset_raw)\n",
    "\n",
    "flash_dataset_raw"
   ]
  },
  {
   "cell_type": "code",
   "execution_count": 224,
   "id": "0acaba84-7f8b-43a5-a9b1-880d54c6a2dc",
   "metadata": {},
   "outputs": [
    {
     "data": {
      "text/plain": [
       "{'video': 'downloaded_clips/saB1t3Znhk0_2.mp4',\n",
       " 'caption': 'The two teens bow after their fight.',\n",
       " 'start_time': 76.66,\n",
       " 'end_time': 78.01,\n",
       " 'action_duration': 1.35,\n",
       " 'row_id': 2,\n",
       " 'revised_caption': 'The moment when the two teens bow after their fight.'}"
      ]
     },
     "execution_count": 224,
     "metadata": {},
     "output_type": "execute_result"
    }
   ],
   "source": [
    "flash_dataset_raw[0]"
   ]
  },
  {
   "cell_type": "code",
   "execution_count": 228,
   "id": "47a70072-16bf-498c-8f1c-77c94175367a",
   "metadata": {},
   "outputs": [
    {
     "data": {
      "application/vnd.jupyter.widget-view+json": {
       "model_id": "23262509717e4ee3be44909ea583758b",
       "version_major": 2,
       "version_minor": 0
      },
      "text/plain": [
       "Creating json from Arrow format:   0%|          | 0/7 [00:00<?, ?ba/s]"
      ]
     },
     "metadata": {},
     "output_type": "display_data"
    },
    {
     "data": {
      "text/plain": [
       "1874672"
      ]
     },
     "execution_count": 228,
     "metadata": {},
     "output_type": "execute_result"
    }
   ],
   "source": [
    "flash_dataset_raw.to_json('flash_dataset_stage2_6.9k.jsonl')"
   ]
  },
  {
   "cell_type": "markdown",
   "id": "e91a8b64-44ef-4521-94dc-bcc6eb6529bc",
   "metadata": {},
   "source": [
    "## Score with ActionBert2 109M"
   ]
  },
  {
   "cell_type": "code",
   "execution_count": 229,
   "id": "d56d9de4-1f2b-439f-9942-09252cca1e25",
   "metadata": {},
   "outputs": [
    {
     "name": "stdout",
     "output_type": "stream",
     "text": [
      "Models loaded successfully!\n"
     ]
    }
   ],
   "source": [
    "from transformers import AutoModelForSequenceClassification, AutoTokenizer\n",
    "from tabulate import tabulate\n",
    "import torch\n",
    "import numpy as np\n",
    "import torch.nn.functional as F\n",
    "\n",
    "# Load action scoring model\n",
    "model_name = \"qingy2024/ActionBERT2-109M\"\n",
    "model = AutoModelForSequenceClassification.from_pretrained(model_name)\n",
    "tokenizer = AutoTokenizer.from_pretrained(model_name)\n",
    "model.to('cuda')\n",
    "\n",
    "print(\"Models loaded successfully!\")"
   ]
  },
  {
   "cell_type": "code",
   "execution_count": 230,
   "id": "7dfa787d-3605-4df5-8aaf-a576154e88aa",
   "metadata": {},
   "outputs": [
    {
     "data": {
      "application/vnd.jupyter.widget-view+json": {
       "model_id": "0b65471c5f9c4e1db5dc09804088d6e0",
       "version_major": 2,
       "version_minor": 0
      },
      "text/plain": [
       "Map:   0%|          | 0/6855 [00:00<?, ? examples/s]"
      ]
     },
     "metadata": {},
     "output_type": "display_data"
    }
   ],
   "source": [
    "def get_score(row):\n",
    "    caption = row['revised_caption']\n",
    "    \n",
    "    caption_tokens = tokenizer(\n",
    "        caption,\n",
    "        truncation=True,\n",
    "        max_length=512,\n",
    "        padding=True,\n",
    "        return_tensors=\"pt\"\n",
    "    ).to('cuda')\n",
    "\n",
    "    multipliers = {\n",
    "        ' lands ': 1.4,\n",
    "        ' hits ': 1.5,\n",
    "        ' clap ': 1.7,\n",
    "        ' throws ': 1.3,\n",
    "        ' holds': 0.7,\n",
    "        ' finish': 0.5,\n",
    "        ' lowers ': 0.5,\n",
    "        ' raises ': 0.5,\n",
    "    }\n",
    "    \n",
    "    # Calculate score multiplier\n",
    "    score_multiplier = 1.0\n",
    "    for keyword, multiplier in multipliers.items():\n",
    "        if keyword in caption:\n",
    "            score_multiplier *= multiplier\n",
    "    \n",
    "    # Add length multiplier (exponentially decaying)\n",
    "    caption_length = len(caption)\n",
    "    if caption_length > 70:\n",
    "        # Exponentially decaying from 1.0 at 70 chars to 0.4 at 90 chars\n",
    "        # Using formula: 1.0 * e^(-k * (length - 70)) where k is chosen so that at 90, result is 0.4\n",
    "        # 0.4 = e^(-k * 20) => ln(0.4) = -20k => k = -ln(0.4)/20\n",
    "        k = -np.log(0.4) / 20\n",
    "        length_multiplier = np.exp(-k * (caption_length - 70))\n",
    "        score_multiplier *= length_multiplier\n",
    "    \n",
    "    with torch.no_grad():\n",
    "        action_score = model(**caption_tokens).logits.item()\n",
    "    \n",
    "    return {\"action_score\": action_score * score_multiplier}\n",
    "\n",
    "flash_dataset_scored = flash_dataset_raw.map(get_score)"
   ]
  },
  {
   "cell_type": "code",
   "execution_count": 231,
   "id": "4ce25e1d-3e30-4c2b-9738-15f4ba421f88",
   "metadata": {},
   "outputs": [
    {
     "data": {
      "text/plain": [
       "8201"
      ]
     },
     "execution_count": 231,
     "metadata": {},
     "output_type": "execute_result"
    }
   ],
   "source": [
    "del model, tokenizer\n",
    "\n",
    "torch.cuda.empty_cache()\n",
    "\n",
    "import gc\n",
    "gc.collect()"
   ]
  },
  {
   "cell_type": "code",
   "execution_count": 252,
   "id": "5eccc29b-f94c-4576-9b4e-8573b014eeb4",
   "metadata": {},
   "outputs": [
    {
     "data": {
      "image/png": "[encoded data removed]",
      "text/plain": [
       "<Figure size 1400x500 with 2 Axes>"
      ]
     },
     "metadata": {},
     "output_type": "display_data"
    },
    {
     "data": {
      "text/plain": [
       "Dataset({\n",
       "    features: ['video', 'caption', 'start_time', 'end_time', 'action_duration', 'row_id', 'revised_caption', 'action_score'],\n",
       "    num_rows: 2000\n",
       "})"
      ]
     },
     "execution_count": 252,
     "metadata": {},
     "output_type": "execute_result"
    }
   ],
   "source": [
    "flash_dataset = flash_dataset_scored.sort('action_score', reverse=True).select(range(2000))\n",
    "\n",
    "plot_dataset_stats(flash_dataset)\n",
    "\n",
    "flash_dataset"
   ]
  },
  {
   "cell_type": "code",
   "execution_count": 279,
   "id": "3970e3b2-fee5-4603-b477-dcf3de18cc0a",
   "metadata": {},
   "outputs": [
    {
     "data": {
      "text/plain": [
       "{'video': 'downloaded_clips/JTFEzdAw1L4_5173.mp4',\n",
       " 'caption': 'The young boy hands the woman the ball and she throws it again.',\n",
       " 'start_time': 28.99,\n",
       " 'end_time': 35.24,\n",
       " 'action_duration': 6.25,\n",
       " 'row_id': 5173,\n",
       " 'revised_caption': 'The moment when the woman throws the ball again.',\n",
       " 'action_score': 4.154557752609253}"
      ]
     },
     "execution_count": 279,
     "metadata": {},
     "output_type": "execute_result"
    }
   ],
   "source": [
    "random.choice(flash_dataset)"
   ]
  },
  {
   "cell_type": "code",
   "execution_count": 271,
   "id": "a29ca677-5be0-4c1d-8356-d6650d932b4b",
   "metadata": {},
   "outputs": [
    {
     "data": {
      "application/vnd.jupyter.widget-view+json": {
       "model_id": "43bb7453bf3241258ed9a8ebbc32403d",
       "version_major": 2,
       "version_minor": 0
      },
      "text/plain": [
       "VBox(children=(HTML(value='<center> <img\\nsrc=https://huggingface.co/front/assets/huggingface_logo-noborder.sv…"
      ]
     },
     "metadata": {},
     "output_type": "display_data"
    }
   ],
   "source": [
    "from huggingface_hub import notebook_login\n",
    "\n",
    "notebook_login()"
   ]
  },
  {
   "cell_type": "code",
   "execution_count": 272,
   "id": "adab8b6b-ed2e-4a0f-ade2-996c8fe5b776",
   "metadata": {},
   "outputs": [
    {
     "data": {
      "application/vnd.jupyter.widget-view+json": {
       "model_id": "f861b7cea43344eb88ba84bb1b70e717",
       "version_major": 2,
       "version_minor": 0
      },
      "text/plain": [
       "Uploading the dataset shards:   0%|          | 0/1 [00:00<?, ?it/s]"
      ]
     },
     "metadata": {},
     "output_type": "display_data"
    },
    {
     "data": {
      "application/vnd.jupyter.widget-view+json": {
       "model_id": "cccfaae8cb54407285a365ce37147659",
       "version_major": 2,
       "version_minor": 0
      },
      "text/plain": [
       "Creating parquet from Arrow format:   0%|          | 0/2 [00:00<?, ?ba/s]"
      ]
     },
     "metadata": {},
     "output_type": "display_data"
    },
    {
     "data": {
      "application/vnd.jupyter.widget-view+json": {
       "model_id": "0fdab1bbd7b14bb8a1419a8b680ed386",
       "version_major": 2,
       "version_minor": 0
      },
      "text/plain": [
       "Processing Files (0 / 0)                : |          |  0.00B /  0.00B            "
      ]
     },
     "metadata": {},
     "output_type": "display_data"
    },
    {
     "data": {
      "application/vnd.jupyter.widget-view+json": {
       "model_id": "6fb3f913a2f440a59e7bd3a84589507d",
       "version_major": 2,
       "version_minor": 0
      },
      "text/plain": [
       "New Data Upload                         : |          |  0.00B /  0.00B            "
      ]
     },
     "metadata": {},
     "output_type": "display_data"
    },
    {
     "data": {
      "application/vnd.jupyter.widget-view+json": {
       "model_id": "4390b273ba7e49a0a90bbe1aa3b90d05",
       "version_major": 2,
       "version_minor": 0
      },
      "text/plain": [
       "                                        : 100%|##########|  209kB /  209kB            "
      ]
     },
     "metadata": {},
     "output_type": "display_data"
    },
    {
     "data": {
      "application/vnd.jupyter.widget-view+json": {
       "model_id": "82b9dda835bc42c8b6cade581f78ff5d",
       "version_major": 2,
       "version_minor": 0
      },
      "text/plain": [
       "README.md:   0%|          | 0.00/573 [00:00<?, ?B/s]"
      ]
     },
     "metadata": {},
     "output_type": "display_data"
    },
    {
     "data": {
      "text/plain": [
       "CommitInfo(commit_url='https://huggingface.co/datasets/qingy2024/FLASH-Unlabelled/commit/7a2f29390323ed297c8e9c25c3cdf7a7c6bf3f02', commit_message='Upload dataset', commit_description='', oid='7a2f29390323ed297c8e9c25c3cdf7a7c6bf3f02', pr_url=None, repo_url=RepoUrl('https://huggingface.co/datasets/qingy2024/FLASH-Unlabelled', endpoint='https://huggingface.co', repo_type='dataset', repo_id='qingy2024/FLASH-Unlabelled'), pr_revision=None, pr_num=None)"
      ]
     },
     "execution_count": 272,
     "metadata": {},
     "output_type": "execute_result"
    }
   ],
   "source": [
    "flash_dataset.push_to_hub('qingy2024/FLASH-Unlabelled')"
   ]
  },
  {
   "cell_type": "markdown",
   "id": "ad2a7b5e-7528-42ea-a2ef-c6bfe83fc859",
   "metadata": {},
   "source": [
    "ball -> less\n",
    " croquet -> more\n",
    " polo -> less\n",
    "pinata & low quality -> less\n",
    "gymnastics stuff -> more\n",
    "high resolution -> more\n",
    " high jump -> more\n",
    " long jump -> more\n",
    " mat. -> more\n",
    " land -> more\n",
    "pool -> more\n",
    " lands on -> more more\n",
    "dart -> less, unless high quality\n",
    "cow -> less\n",
    "calf -> less\n",
    "horse -> less\n",
    "disc -> less\n",
    "disk -> less\n",
    "javelin -> less\n",
    "net -> less\n",
    "birdie -> less\n",
    "shuttlecock -> less\n",
    "ground -> more\n",
    "pole -> less\n",
    "stick -> more\n",
    "dog -> more\n",
    "arrow -> less"
   ]
  }
 ],
 "metadata": {
  "kernelspec": {
   "display_name": "Python 3 (ipykernel)",
   "language": "python",
   "name": "python3"
  },
  "language_info": {
   "codemirror_mode": {
    "name": "ipython",
    "version": 3
   },
   "file_extension": ".py",
   "mimetype": "text/x-python",
   "name": "python",
   "nbconvert_exporter": "python",
   "pygments_lexer": "ipython3",
   "version": "3.12.3"
  }
 },
 "nbformat": 4,
 "nbformat_minor": 5
}

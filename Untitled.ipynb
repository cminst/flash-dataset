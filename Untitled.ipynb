{
 "cells": [
  {
   "cell_type": "code",
   "execution_count": 1,
   "id": "80d97140-607d-4fc0-a4ce-49ddf9784156",
   "metadata": {},
   "outputs": [],
   "source": [
    "from datasets import *"
   ]
  },
  {
   "cell_type": "code",
   "execution_count": 2,
   "id": "2db80fd4-b03d-4977-9dee-2537833bdeda",
   "metadata": {},
   "outputs": [
    {
     "data": {
      "application/vnd.jupyter.widget-view+json": {
       "model_id": "bf64dc16d6844a5aae94df17ff4167af",
       "version_major": 2,
       "version_minor": 0
      },
      "text/plain": [
       "Generating train split: 0 examples [00:00, ? examples/s]"
      ]
     },
     "metadata": {},
     "output_type": "display_data"
    }
   ],
   "source": [
    "dataset = Dataset.from_csv('labeling_tasks_cleaned.csv')"
   ]
  },
  {
   "cell_type": "code",
   "execution_count": 3,
   "id": "709f077f-502b-49b2-9199-f60c40e6c167",
   "metadata": {},
   "outputs": [
    {
     "data": {
      "text/plain": [
       "Dataset({\n",
       "    features: ['video', 'caption', 'row_id', 'revised_caption', 'action_score', 'status', 'assigned_to', 'assigned_at', 'build_up', 'peak_start', 'peak_end', 'drop_off', 'peaks'],\n",
       "    num_rows: 1037\n",
       "})"
      ]
     },
     "execution_count": 3,
     "metadata": {},
     "output_type": "execute_result"
    }
   ],
   "source": [
    "dataset"
   ]
  },
  {
   "cell_type": "code",
   "execution_count": 8,
   "id": "c2734a3a-4088-48a3-9ca9-66a8130fc442",
   "metadata": {},
   "outputs": [
    {
     "data": {
      "text/plain": [
       "{'video': 'downloaded_clips/JKE9D1anR7I_12255.mp4',\n",
       " 'caption': 'He does a jump off and lands on the mat.',\n",
       " 'row_id': 12255,\n",
       " 'revised_caption': 'The moment when the person lands on the mat.',\n",
       " 'action_score': 4.443642425537109,\n",
       " 'status': 'completed',\n",
       " 'assigned_to': None,\n",
       " 'assigned_at': None,\n",
       " 'build_up': 4.334937,\n",
       " 'peak_start': 6.912752,\n",
       " 'peak_end': 7.17384,\n",
       " 'drop_off': 11.376,\n",
       " 'peaks': '[{\"build_up\": 4.334937, \"peak_start\": 6.912752, \"peak_end\": 7.17384, \"drop_off\": 11.376, \"caption\": \"The moment when the person does a midair flip.\", \"true_peak_start\": 45.552752, \"true_peak_end\": 45.81384}, {\"build_up\": 4.334937, \"peak_start\": 7.640974, \"peak_end\": 8.341675, \"drop_off\": 11.376, \"caption\": \"The moment when the person lands on the mat.\", \"true_peak_start\": 46.280974, \"true_peak_end\": 46.981675}]'}"
      ]
     },
     "execution_count": 8,
     "metadata": {},
     "output_type": "execute_result"
    }
   ],
   "source": [
    "dataset[502]"
   ]
  },
  {
   "cell_type": "code",
   "execution_count": null,
   "id": "e2b0ab86-fec5-40be-9b75-be43885659b6",
   "metadata": {},
   "outputs": [],
   "source": []
  }
 ],
 "metadata": {
  "kernelspec": {
   "display_name": "Python 3 (ipykernel)",
   "language": "python",
   "name": "python3"
  },
  "language_info": {
   "codemirror_mode": {
    "name": "ipython",
    "version": 3
   },
   "file_extension": ".py",
   "mimetype": "text/x-python",
   "name": "python",
   "nbconvert_exporter": "python",
   "pygments_lexer": "ipython3",
   "version": "3.12.3"
  }
 },
 "nbformat": 4,
 "nbformat_minor": 5
}
